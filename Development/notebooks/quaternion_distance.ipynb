{
 "cells": [
  {
   "cell_type": "code",
   "execution_count": 2,
   "metadata": {},
   "outputs": [
    {
     "name": "stdout",
     "output_type": "stream",
     "text": [
      "0.966 -0.259i +0.000j +0.000k\n",
      "0.707 +0.707i +0.000j +0.000k\n",
      "geodisc_dist =  59.99999999999999\n",
      "angular_dist =  119.99999999999999\n"
     ]
    }
   ],
   "source": [
    "from pyquaternion import Quaternion\n",
    "import numpy as np\n",
    "\n",
    "\n",
    "def calc_angular_dist(q1, q2):\n",
    "    # difference quaternion joining q1 to q2, representing the difference rotation\n",
    "    z = q1 * q2.conjugate\n",
    "    theta = 2 * np.arccos(np.abs(z.real))\n",
    "    return theta\n",
    "\n",
    "\n",
    "# q1 = Quaternion.random()\n",
    "# q2 = Quaternion.random()\n",
    "\n",
    "q1 = Quaternion(axis=[-1.0, 0.0, 0.0], degrees=30)\n",
    "q2 = Quaternion(axis=[1.0, 0.0, 0.0], degrees=90)\n",
    "\n",
    "print(q1)\n",
    "print(q2)\n",
    "\n",
    "# %%\n",
    "geodisc_dist = Quaternion.distance(q1, q2)\n",
    "geodisc_dist = np.rad2deg(geodisc_dist)\n",
    "\n",
    "angular_dist = calc_angular_dist(q1, q2)\n",
    "angular_dist = np.rad2deg(angular_dist)\n",
    "\n",
    "print(\"geodisc_dist = \", geodisc_dist)\n",
    "print(\"angular_dist = \", angular_dist)"
   ]
  },
  {
   "cell_type": "code",
   "execution_count": null,
   "metadata": {},
   "outputs": [],
   "source": []
  }
 ],
 "metadata": {
  "kernelspec": {
   "display_name": "Python 3 (ipykernel)",
   "language": "python",
   "name": "python3"
  },
  "language_info": {
   "codemirror_mode": {
    "name": "ipython",
    "version": 3
   },
   "file_extension": ".py",
   "mimetype": "text/x-python",
   "name": "python",
   "nbconvert_exporter": "python",
   "pygments_lexer": "ipython3",
   "version": "3.8.1"
  }
 },
 "nbformat": 4,
 "nbformat_minor": 2
}
